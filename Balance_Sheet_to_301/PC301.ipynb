{
 "cells": [
  {
   "cell_type": "code",
   "execution_count": 1,
   "metadata": {
    "collapsed": true
   },
   "outputs": [],
   "source": [
    "from xlwings import Workbook, Sheet, Range, Chart\n",
    "import win32com.client\n",
    "import re\n",
    "import pandas as pd\n",
    "import sqlite3\n",
    "import numpy as np\n",
    "import gc\n",
    "import os\n",
    "import datetime"
   ]
  },
  {
   "cell_type": "markdown",
   "metadata": {},
   "source": [
    "# Balance Sheet"
   ]
  },
  {
   "cell_type": "code",
   "execution_count": 2,
   "metadata": {
    "collapsed": false
   },
   "outputs": [
    {
     "name": "stdout",
     "output_type": "stream",
     "text": [
      "[75, 92, 166, 116]\n",
      "0\n",
      "1\n",
      "2\n",
      "3\n"
     ]
    }
   ],
   "source": [
    "Balance_Sheet_Path=r'C:\\Python2.7.10\\Scripts\\notebook\\xlwings\\Balance_Sheet.xls'\n",
    "wb = Workbook(Balance_Sheet_Path)\n",
    "wb = Workbook.caller()\n",
    "SheetA = u'預算平衡表-Phase Summary A'\n",
    "SheetE = u'預算平衡表-Phase Summary E'\n",
    "SheetP = u'預算平衡表-Phase Summary P'\n",
    "SheetC = u'預算平衡表-Phase Summary C'\n",
    "\n",
    "SheetArr=[SheetA, SheetE, SheetP, SheetC]\n",
    "SheetAlphabetArr = ['A', 'E', 'P','C']\n",
    "\n",
    "\n",
    "ColumnAlphabet=['D','E','F','G','H','I', 'J', 'K', 'L', 'M',\n",
    "                'N', 'O', 'P']\n",
    "\n",
    "AllRow = []\n",
    "for SName in SheetArr: \n",
    "    \n",
    "    AllRange = Range(SName, 'D10').vertical.get_address()\n",
    "    LastRow = AllRange.split(':')[1].split('$')[2]\n",
    "    LastRow = int(LastRow)\n",
    "    AllRow.append(LastRow)\n",
    "print AllRow\n",
    "for SName in SheetArr:\n",
    "    print SheetArr.index(SName)\n",
    "#Create Empty Dataframe for Balance Sheet\n",
    "columns = ['Req No', 'Req Description', 'A', 'W', 'Z', \n",
    "           'Current Budget', 'Exe Budget', 'C', \n",
    "           'PO Num', 'Excepted Budget', 'EAC Now', 'G', 'H']\n",
    "ArangeLen=(sum(AllRow)+100)\n",
    "index = np.arange(int(ArangeLen))\n",
    "df_bs = pd.DataFrame(columns=columns, index = index) "
   ]
  },
  {
   "cell_type": "code",
   "execution_count": 3,
   "metadata": {
    "collapsed": false,
    "scrolled": false
   },
   "outputs": [],
   "source": [
    "def BSreadRange(row, SheetIX):\n",
    "    SName = SheetArr[SheetIX]\n",
    "    SAlphabet = SheetAlphabetArr[SheetIX]\n",
    "    Val = Range(SName, row).value\n",
    "    if (Val != 0):\n",
    "        for j in xrange(0,13):\n",
    "            if(row[0] == ColumnAlphabet[j]):\n",
    "                rowNum = '%s%d' % (SAlphabet, int(row[1:]))\n",
    "                df_bs.loc[rowNum, columns[j]]=Val\n",
    "                    \n",
    "for SName in SheetArr:   \n",
    "    SheetIX = SheetArr.index(SName)\n",
    "    SheetLastRow = AllRow[SheetIX]\n",
    "    for i in xrange(11,(SheetLastRow+1)):\n",
    "        CellNameArr = map(lambda x:('%s%d' % (x,i)), ColumnAlphabet)\n",
    "        #print CellNameArr\n",
    "        #map(BSreadRange(,SName), CellNameArr)\n",
    "        [BSreadRange(x, SheetIX) for x in CellNameArr]\n",
    "    \n",
    "    \n",
    "\n",
    "df_bs = df_bs[(pd.notnull(df_bs['Req No']))]    "
   ]
  },
  {
   "cell_type": "markdown",
   "metadata": {},
   "source": [
    "# 讀取工時"
   ]
  },
  {
   "cell_type": "code",
   "execution_count": 4,
   "metadata": {
    "collapsed": false
   },
   "outputs": [
    {
     "name": "stdout",
     "output_type": "stream",
     "text": [
      "1510\n",
      "171\n",
      "[[u'A', 354.0], [u'C', 1162.0], [u'E', 2082.0], [u'P', 182.0]]\n"
     ]
    }
   ],
   "source": [
    "d = datetime.date.today()\n",
    "SheetMonth = '{:02d}'.format(d.month-1)\n",
    "SheetYear = format(d.year)[2:]\n",
    "MH_SheetName=('%s%s' % (SheetYear, SheetMonth))\n",
    "print MH_SheetName\n",
    "MH_Arr=[]\n",
    "#14A1701A\n",
    "#14A1701A\n",
    "#14A1701A\n",
    "#14A1701A\n",
    "Pro_Name = ['14A1701A', '14C1701A', '14P1701A', '14E1701A']\n",
    "\n",
    "ManHour_Path=r'C:\\Python2.7.10\\Scripts\\notebook\\xlwings\\MH.xls'\n",
    "wb = Workbook(ManHour_Path)\n",
    "wb = Workbook.caller()\n",
    "AllRange_MH = Range(MH_SheetName, 'A6').vertical.get_address()\n",
    "LastRow_MH = AllRange_MH.split(':')[1].split('$')[2]\n",
    "LastRow_MH = int(LastRow_MH)\n",
    "print LastRow_MH\n",
    "for i in xrange(6,LastRow_MH+1):\n",
    "    SearchLocate = ('A%d'% (i))\n",
    "    \n",
    "    s = Range(MH_SheetName, SearchLocate).value\n",
    "    if s in Pro_Name:\n",
    "        TargetLocate = ('B%d'% (i))\n",
    "        MH_Arr.append([s[2],  Range(MH_SheetName, TargetLocate).value])\n",
    "print MH_Arr"
   ]
  },
  {
   "cell_type": "markdown",
   "metadata": {},
   "source": [
    "# 其他費用"
   ]
  },
  {
   "cell_type": "code",
   "execution_count": 5,
   "metadata": {
    "collapsed": false
   },
   "outputs": [
    {
     "name": "stdout",
     "output_type": "stream",
     "text": [
      "3678\n",
      "44\n",
      "A3 97088.0\n",
      "A4 2834050.0\n",
      "A5 1006267.0\n",
      "C1 389800.0\n",
      "C3 2192484.0\n",
      "C4 4618914.0\n",
      "C5 1315795.0\n",
      "E3 16965.0\n",
      "E4 10730688.0\n",
      "E5 4004852.0\n",
      "P3 6488.0\n",
      "P4 1089724.0\n"
     ]
    }
   ],
   "source": [
    "ACHour_Path=r'C:\\Python2.7.10\\Scripts\\notebook\\xlwings\\fa.xlsx'\n",
    "ACSheetName='acc303'\n",
    "AC_Arr=[]\n",
    "\n",
    "wb = Workbook(ACHour_Path)\n",
    "wb = Workbook.caller()\n",
    "AllRange_ACC = Range(ACSheetName, 'A2').vertical.get_address()\n",
    "LastRow_ACC = AllRange_ACC.split(':')[1].split('$')[2]\n",
    "LastRow_ACC = int(LastRow_ACC)\n",
    "print LastRow_ACC\n",
    "\n",
    "\n",
    "for i in xrange(1,LastRow_ACC+1):\n",
    "    SearchLocate = ('A%d'% (i))\n",
    "    \n",
    "    s = Range(ACSheetName, SearchLocate).value\n",
    "    if s in Pro_Name:\n",
    "        CatLocate = ('D%d'% (i))\n",
    "        TargetLocate = ('H%d'% (i))\n",
    "        AC_Arr.append([s[2], Range(ACSheetName, CatLocate).value,\n",
    "                       Range(ACSheetName, TargetLocate).value])\n",
    "\n",
    "print len(AC_Arr)\n",
    "columns_AC = ['Type', 'Amount']\n",
    "ACrangeLen=(len(AC_Arr))\n",
    "index_AC = np.arange(int(ACrangeLen))\n",
    "df_ac = pd.DataFrame(columns=columns_AC, index = index_AC)\n",
    "j=0\n",
    "for i in AC_Arr:\n",
    "    \n",
    "    df_ac.loc[j, 'Type']=('%s%d' % (i[0],i[1]))\n",
    "    \n",
    "    df_ac.loc[j, 'Amount']=i[2]\n",
    "    j+=1\n",
    "#print df_ac\n",
    "AC_Result_df = df_ac.groupby(by=['Type'])['Amount'].sum()\n",
    "\n",
    "for i in range(0,len(AC_Result_df)-1): \n",
    "    print AC_Result_df.index[i], AC_Result_df[i]\n",
    "    "
   ]
  },
  {
   "cell_type": "markdown",
   "metadata": {},
   "source": [
    "# 301表 "
   ]
  },
  {
   "cell_type": "markdown",
   "metadata": {},
   "source": []
  },
  {
   "cell_type": "code",
   "execution_count": 6,
   "metadata": {
    "collapsed": true
   },
   "outputs": [],
   "source": [
    "Tre0Uno_Sheet_Path=r'C:\\Python2.7.10\\Scripts\\notebook\\xlwings\\301.xls'\n",
    "wb = Workbook(Tre0Uno_Sheet_Path)\n",
    "wb = Workbook.caller()\n",
    "\n",
    "ColumnAlphabet301 = ['B', 'C', 'D', 'E', 'F', 'G', 'H']\n",
    "AllRange301 = Range('D10').vertical.get_address()\n",
    "LastRow301 = AllRange301.split(':')[1].split('$')[2]\n",
    "LastRow301 = int(LastRow301)\n",
    "LastRow301 = LastRow *3\n",
    "Tre0Uno_columns = ['PO Num', 'Req No', 'Req Description', 'A', \n",
    "                   'Current Budget', 'Exe Budget', 'C']\n",
    "Tre0UnorangeLen=(LastRow301+100)\n",
    "Tre0Uno_index = np.arange(int(Tre0UnorangeLen))\n",
    "df_T0U = pd.DataFrame(columns=Tre0Uno_columns, index = Tre0Uno_index) "
   ]
  },
  {
   "cell_type": "markdown",
   "metadata": {},
   "source": [
    "#### 讀取原始301資料"
   ]
  },
  {
   "cell_type": "code",
   "execution_count": 7,
   "metadata": {
    "collapsed": false
   },
   "outputs": [],
   "source": [
    "#Read 301 data into the Dataframe function\n",
    "def T0UreadRange(row):\n",
    "    Val = Range(row).value\n",
    "    if (Val != 0):\n",
    "        for j in xrange(0,7):\n",
    "            if(row[0] == ColumnAlphabet301[j]):\n",
    "                rowNum = int(row[1:])\n",
    "                df_T0U.loc[rowNum, Tre0Uno_columns[j]]=Val\n",
    "                df_T0U.loc[rowNum, 'RowID']=rowNum\n",
    "                \n",
    "                \n",
    "for i in xrange(7,(LastRow301+1)):\n",
    "    #Change This month EAC to last month EAC\n",
    "    BeforeEACName = ('J%d' % (i))\n",
    "    AfterEACName = ('K%d' % (i))\n",
    "    Range(AfterEACName).value = Range(BeforeEACName).value\n",
    "    \n",
    "    #Generate all columns name\n",
    "    CellNameArr301 = map(lambda x:('%s%d' % (x,i)), ColumnAlphabet301)\n",
    "    \n",
    "    #Read 301 data into the Dataframe action\n",
    "    map(T0UreadRange, CellNameArr301)  \n",
    "    \n",
    "#drop N/A    \n",
    "df_T0U = df_T0U[(pd.notnull(df_T0U['Req Description']))]    "
   ]
  },
  {
   "cell_type": "markdown",
   "metadata": {},
   "source": [
    "#### 寫入Balance Sheet"
   ]
  },
  {
   "cell_type": "code",
   "execution_count": 8,
   "metadata": {
    "collapsed": false
   },
   "outputs": [
    {
     "name": "stderr",
     "output_type": "stream",
     "text": [
      "c:\\python2.7.10\\lib\\site-packages\\ipykernel\\__main__.py:35: SettingWithCopyWarning: \n",
      "A value is trying to be set on a copy of a slice from a DataFrame.\n",
      "Try using .loc[row_indexer,col_indexer] = value instead\n",
      "\n",
      "See the caveats in the documentation: http://pandas.pydata.org/pandas-docs/stable/indexing.html#indexing-view-versus-copy\n"
     ]
    }
   ],
   "source": [
    "def BSintoT0U(row):\n",
    "    XColumnName = ['PO Num_x', 'A_x', 'Current Budget_x', 'Exe Budget_x', 'C_x']\n",
    "    YColumnName = ['PO Num_y', 'A_y', 'Current Budget_y', 'Exe Budget_y', 'C_y']\n",
    "    for checkCol in YColumnName:\n",
    "        Col_IX = YColumnName.index(checkCol)\n",
    "        bs_Val = row[checkCol]\n",
    "        \n",
    "        T0U_Val = row[XColumnName[Col_IX]]\n",
    "        \n",
    "        if (bs_Val != None) and (pd.isnull(bs_Val) != True) and (bs_Val != T0U_Val):\n",
    "            \n",
    "            #301 Column Name to Column Alphabet\n",
    "            ColAnchor = Tre0Uno_columns.index(checkCol[:-2])\n",
    "            Input_Location = ('%s%d' % (ColumnAlphabet301[ColAnchor], row['RowID']))\n",
    "            \n",
    "        \n",
    "            Range(Input_Location).value = bs_Val\n",
    "            Range(Input_Location).color = (136, 153, 238)\n",
    "\n",
    "\n",
    "\n",
    "#Generate the key to merge\n",
    "df_T0U['key']=df_T0U['Req No']\n",
    "df_bs['key']=df_bs['Req No']\n",
    "\n",
    "#merge left\n",
    "MergeItem = pd.merge(df_T0U, df_bs, on='key', how='left')\n",
    "#if Balance sheet has diff between 301\n",
    "diff =  MergeItem[(MergeItem['Current Budget_x'] != MergeItem['Current Budget_y']) | \n",
    "                  (MergeItem['PO Num_x'] != MergeItem['PO Num_y']) | \n",
    "                  (MergeItem['Exe Budget_x'] != MergeItem['Exe Budget_y']) |\n",
    "                  (MergeItem['C_x'] != MergeItem['C_y'])]\n",
    "\n",
    "#Merge and Fill in\n",
    "diff['RELSULT'] = diff.apply(BSintoT0U, axis=1)"
   ]
  },
  {
   "cell_type": "markdown",
   "metadata": {},
   "source": [
    "#### 填入其他費用及自辦工時"
   ]
  },
  {
   "cell_type": "code",
   "execution_count": 9,
   "metadata": {
    "collapsed": false
   },
   "outputs": [
    {
     "name": "stdout",
     "output_type": "stream",
     "text": [
      "[[u'A3', 'D134', 'H134', None], [u'A4', 'D135', 'H135', None], [u'Amh', 'D136', 'H136', u'\\u5df2\\u7d71\\u8a08\\u5230 9\\u6708'], [u'A5', 'D137', 'H137', None], [u'E3', 'D138', 'H138', None], [u'E4', 'D139', 'H139', None], [u'Emh', 'D140', 'H140', u'\\u5df2\\u7d71\\u8a08\\u5230 9\\u6708'], [u'E5', 'D141', 'H141', None], [u'P3', 'D142', 'H142', None], [u'P4', 'D143', 'H143', None], [u'Pmh', 'D144', 'H144', u'\\u5df2\\u7d71\\u8a08\\u5230 9\\u6708'], [u'P5', 'D145', 'H145', None], [u'C3', 'D146', 'H146', None], [u'C4', 'D147', 'H147', None], [u'Cmh', 'D148', 'H148', u'\\u5df2\\u7d71\\u8a08\\u5230 9\\u6708'], [u'C5', 'D149', 'H149', None], [u'S3', 'D150', 'H150', None], [u'S4', 'D151', 'H151', None], [u'Smh', 'D152', 'H152', None], [u'S5', 'D153', 'H153', None]]\n",
      "Amh 354.0 H136\n",
      "Update\n",
      "Emh 2082.0 H140\n",
      "Update\n",
      "Pmh 182.0 H144\n",
      "Update\n",
      "Cmh 1162.0 H148\n",
      "Update\n",
      "A3 H134 97088.0\n",
      "A4 H135 2834050.0\n",
      "A5 H137 1006267.0\n",
      "C3 H146 2192484.0\n",
      "C4 H147 4618914.0\n",
      "C5 H149 1315795.0\n",
      "E3 H138 16965.0\n",
      "E4 H139 10730688.0\n",
      "E5 H141 4004852.0\n",
      "P3 H142 6488.0\n",
      "P4 H143 1089724.0\n"
     ]
    }
   ],
   "source": [
    "FeeArr=[u'其他費用',u'自辦工時', u'自辦工時(MH)', u'間接分攤']\n",
    "FeeSymbol=['3','4','mh', '5']\n",
    "TypeAnchor = 0\n",
    "\n",
    "FillInQuery=[]\n",
    "\n",
    "mhTitle =  map(lambda x:('%smh' % (x[0])), MH_Arr)\n",
    "\n",
    "for i in xrange(7,(LastRow301+1)):\n",
    "    CheckRName = ('D%d' % (i))\n",
    "    CheckTName = ('A%d' % (i))\n",
    "    InputName = ('H%d' % (i))\n",
    "    CheckRValue = Range(CheckRName).value\n",
    "    if  CheckRValue in FeeArr:\n",
    "        CheckTValue = Range(CheckTName).value\n",
    "        \n",
    "        if CheckTValue != None:\n",
    "            TypeAnchor = CheckTValue[2]\n",
    "            SymbolIX = FeeArr.index(CheckRValue)\n",
    "            \n",
    "            SymbolName = ('%s%s' % (TypeAnchor, FeeSymbol[SymbolIX] ))\n",
    "            \n",
    "            mhComment = Range(InputName).comment\n",
    "            FillInQuery.append([SymbolName,CheckRName,InputName, mhComment])\n",
    "        else:\n",
    "            SymbolIX = FeeArr.index(CheckRValue)\n",
    "            SymbolName = ('%s%s' % (TypeAnchor, FeeSymbol[SymbolIX] ))\n",
    "            mhComment = Range(InputName).comment\n",
    "            FillInQuery.append([SymbolName,CheckRName,InputName, mhComment])\n",
    "print FillInQuery\n",
    "\n",
    "#Fill in MH\n",
    "QueryTitleAnchor = map(lambda x:x[0], FillInQuery)\n",
    "for mhcheck in QueryTitleAnchor:\n",
    "    if mhcheck in mhTitle:\n",
    "        mhTrueIX = mhTitle.index(mhcheck)\n",
    "        mhQueryIX = QueryTitleAnchor.index(mhcheck)\n",
    "        FillinTargetRange = FillInQuery[mhQueryIX][2]\n",
    "        FillinTargetComment =FillInQuery[mhQueryIX][3]\n",
    "        MH_Data = int(MH_Arr[mhTrueIX][1])\n",
    "        print mhcheck, MH_Arr[mhTrueIX][1] ,FillInQuery[mhQueryIX][2]\n",
    "        #Check the Comment Month\n",
    "        if str(format(d.month-1)) not in FillinTargetComment:\n",
    "            # Update and Change the Comment\n",
    "            print \"Update\"\n",
    "            OValue = Range(FillinTargetRange).value\n",
    "            Range(FillinTargetRange).value = OValue + MH_Data\n",
    "            Range(FillinTargetRange).comment = str(format(d.month-1))\n",
    "            \n",
    "\n",
    "#fill in other fee\n",
    "for i in range(0,len(AC_Result_df)-1): \n",
    "    \n",
    "    if AC_Result_df.index[i] in QueryTitleAnchor:\n",
    "        QueryFeeIX = QueryTitleAnchor.index(AC_Result_df.index[i])\n",
    "        QueryTargetRange = FillInQuery[QueryFeeIX][2]\n",
    "        FeeFillInValue = AC_Result_df[i]\n",
    "        Range(QueryTargetRange).value = FeeFillInValue\n",
    "        Range(QueryTargetRange).color = (136, 153, 238)\n",
    "        print FillInQuery[QueryFeeIX][0], QueryTargetRange, FeeFillInValue"
   ]
  }
 ],
 "metadata": {
  "kernelspec": {
   "display_name": "Python 2",
   "language": "python",
   "name": "python2"
  },
  "language_info": {
   "codemirror_mode": {
    "name": "ipython",
    "version": 2
   },
   "file_extension": ".py",
   "mimetype": "text/x-python",
   "name": "python",
   "nbconvert_exporter": "python",
   "pygments_lexer": "ipython2",
   "version": "2.7.10"
  }
 },
 "nbformat": 4,
 "nbformat_minor": 0
}
